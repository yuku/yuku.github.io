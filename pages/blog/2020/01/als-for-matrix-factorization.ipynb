{
 "cells": [
  {
   "cell_type": "markdown",
   "metadata": {},
   "source": [
    "Apache Spark の mllib には情報推薦でよく使われる Matrix Factorization （以下 MF）を計算するための ALS アルゴリズムが実装されています。 MF は直感的に理解しやすいモデルですし、 Spark を使えば大規模な user-item 行列にも適用できるのですが、実際に ALS がどういうアルゴリズムなのか知って使うのか、それともブラックボックスとして使うのかでは大きな違いがある、というのが個人的な考えです。\n",
    "\n",
    "というわけでこの記事では [Large-scale Parallel Collaborative Filtering for the Netflix Prize](https://endymecy.gitbooks.io/spark-ml-source-analysis/content/%E6%8E%A8%E8%8D%90/papers/Large-scale%20Parallel%20Collaborative%20Filtering%20the%20Netflix%20Prize.pdf) を参考に ALS が内部で何をしているのかを確認してから、実際に実装してみたいと思います。"
   ]
  },
  {
   "cell_type": "markdown",
   "metadata": {},
   "source": [
    "## MF の数理\n",
    "\n",
    "MF ではレーティング行列２つの行列 $P$ と $Q$ で近似します。\n",
    "\n",
    "$$\n",
    "R \\approx P \\times Q^\\mathrm{T} = \\hat{R}\n",
    "$$\n",
    "\n",
    "ユーザの総数を $|U|$、 商品の総数を $|D|$ とすると $P$ と $Q$ はそれぞれ $|U| \\times K$ 行列と $|D| \\times K$ 行列となります。このとき $K$ はモデルに与えられるパラメータで潜在因子の数を表します。\n",
    "\n",
    "このときユーザ $u$ の商品 $i$ に対するレーティングの推定値 $\\hat{r}_{ui}$ は\n",
    "\n",
    "$$\n",
    "\\hat{r}_{ui} = \\mathbf{p}_u^\\mathrm{T} \\mathbf{q}_i\n",
    "$$\n",
    "\n",
    "で与えられます。 $P$ と $Q$ を計算するには、 $I$ を $R$ の中で実際に値が与えられている $u$ と $i$ の組を表すとして、二乗誤差に L1 正則化を加えた\n",
    "\n",
    "$$\n",
    "L = \\sum_{(u, i) \\in I} (r_{ui} - \\hat{r}_{ui})^2 + \\alpha \\|P\\| + \\beta \\|Q\\|\n",
    "$$\n",
    "\n",
    "を損失関数として最小化する方法があります。このアルゴリズムは 2006 年の [Netflix Prize](https://www.netflixprize.com/) で Simon Funk によって提案されたので、一般的に **Funk SVD** と呼ばれています。\n",
    "\n",
    "Funk SVD は単一のコンピュータ上で計算するには適していますが、スケーラビリティに問題がありました。今日ではテラバイトあるいはペタバイトという大きなのデータを扱うこともあるので、そのような規模のデータを一つのマシンで処理するのは大変です。"
   ]
  },
  {
   "cell_type": "markdown",
   "metadata": {},
   "source": [
    "## Alternating Least Square (ALS)\n",
    "\n",
    "スケーラビリティを改善するために提案されたのが ALS です。 ALS では L2 正則化を行います。\n",
    "\n",
    "$$\n",
    "L = \\sum_{(u,i) \\in I} (r_{ui} - \\mathbf{p}_u^\\mathrm{T}\\mathbf{q}_i)^2 + \\lambda \\Biggl(\\sum_u n_{p_u}\\|\\mathbf{p}_u\\|^2 + \\sum_i n_{q_i}\\|\\mathbf{q}_i\\|^2\\Biggr)\n",
    "$$\n",
    "\n",
    "ここで $n_{p_u}$ と $n_{q_i}$ はそれぞれユーザ $u$ と商品 $i$ のレーティングの数を表します。また $I_u$ がユーザ $u$ が評価した商品の集合です。この損失関数を $p_{uk}$ で偏微分してみると：\n",
    "\n",
    "$$\n",
    "\\begin{aligned}\n",
    "\\frac{1}{2} \\frac{\\partial L}{\\partial p_{uk}} &= \\sum_{i \\in I_u}(\\mathbf{p}_u^\\mathrm{T}\\mathbf{q}_i - r_{ui})q_{ik} + \\lambda n_{p_u} p_{ku} \\\\\n",
    "  &= \\sum_{i \\in I_u} q_{ik} \\mathbf{q}_i^\\mathrm{T}\\mathbf{p}_u - \\sum_{i \\in I_u} q_{ik}r_{ui} + \\lambda n_{p_u} p_{ku}\n",
    "\\end{aligned}\n",
    "$$\n",
    "\n",
    "$1$ から $K$ までの潜在因子 $k$ を並べてベクトルとしてまとめると：\n",
    "\n",
    "$$\n",
    "\\begin{aligned}\n",
    "\\frac{1}{2} \\frac{\\partial L}{\\partial \\mathbf{p}_u} &= Q_{I_u} Q_{I_u}^\\mathrm{T} \\mathbf{p}_u - Q_{I_u} R^\\mathrm{T} (u, I_n) + \\lambda n_{p_u} \\mathbf{p}_u \\\\\n",
    "  &= (Q_{I_u} Q_{I_u}^\\mathrm{T} + \\lambda n_p E) \\mathbf{p}_u - Q_{I_u} R^\\mathrm{T} (u, I_n)\n",
    "\\end{aligned}\n",
    "$$\n",
    "\n",
    "ここで $Q_{I_u}$ は $Q$ の中からユーザ $u$ が評価した商品 $I_u$ に関する行だけを抜き出したもので、$R^\\mathrm{T} (u, I_n)$ は $R$ からユーザ $u$ の行の中から商品 $I_u$ に関するものだけを抜き出したベクトルを表します。\n",
    "\n",
    "$$\n",
    "\\begin{aligned}\n",
    "\\frac{\\partial L}{\\partial \\mathbf{p}_u} &= 0 \\\\\n",
    "\\Rightarrow \\; \\mathbf{p}_u &= (Q_{I_u} Q_{I_u}^\\mathrm{T} + \\lambda n_p E)^{-1} Q_{I_u} R^\\mathrm{T} (u, I_n) \\\\\n",
    "\\Rightarrow \\; \\mathbf{p}_u &= A_u^{-1}V_u\n",
    "\\end{aligned}\n",
    "$$\n",
    "\n",
    "このようにユーザ因子行列 $P$ は $Q$ と $R$ だけに依存して更新できることが分かります。 $q_{ik}$ で偏微分して整理していけば同様に商品因子行列 $Q$ が $P$ と $R$ だけを使って更新できることが示されます。\n",
    "\n",
    "ALS ではこの式を用いて $P$ と $Q$ を交互に更新し、損失関数が変化しなくなるまで反復します。問題は $A_u$ の逆行列が存在するのか定かでないことですが、この点についてもとの論文にも特に言及がなかったのでよくわかっていません。\n",
    "\n",
    "### 分散処理\n",
    "巨大なデータセットに対して ALS を実行する際にもっとも影響が大きな影響をもつのが $R$ です。 $R$ は $|U| \\times |D|$ 行列であり、ユーザ数と商品数が増えると猛烈な勢いで大きくなっていきますが、一般に一人のユーザが評価するのは商品のごく一部でしかないので、極めて疎に行列です。データセットが巨大になったとき $R$ をそのままメモリにもつことは困難です。\n",
    "\n",
    "前述のように ALS では $P$ は $Q$ と $R$ だけを使って更新します。そのため、 $P$ と $Q$ の計算は各反復において互いに独立して並列に行うことができます。\n",
    "\n",
    "さらに $R$ は更新しているユーザが評価した商品の評価値だけを取り出せばいいので、 [CSC](https://en.wikipedia.org/wiki/Sparse_matrix#Compressed_sparse_column_(CSC_or_CCS)) のように列方向に圧縮された形式で保持することで、データサイズを小さくしつつ効率的に計算をすることが可能です。\n",
    "\n",
    "ただこの記事では単純に大変であることに加えて、単一の Jupyter Notebook 上で実装する方法がよく分からないので、分散処理は実装しません。"
   ]
  },
  {
   "cell_type": "markdown",
   "metadata": {},
   "source": [
    "## ALS を実装する\n",
    "ALS を実装する際にもっとも紛らわしいのが $Q_{I_u}$ を求める部分でしょう。\n",
    "\n",
    "仮にレーティング行列として次の $R$ が与えられたとします。"
   ]
  },
  {
   "cell_type": "code",
   "execution_count": 1,
   "metadata": {},
   "outputs": [
    {
     "data": {
      "text/plain": [
       "4×4 Array{Float64,2}:\n",
       " 0.0  4.5  2.0  0.0\n",
       " 4.0  0.0  3.5  0.0\n",
       " 0.0  5.0  0.0  2.0\n",
       " 0.0  3.5  4.0  1.0"
      ]
     },
     "execution_count": 1,
     "metadata": {},
     "output_type": "execute_result"
    }
   ],
   "source": [
    "R =  [\n",
    "    0   4.5 2.0 0;\n",
    "    4.0 0   3.5 0;\n",
    "    0   5.0 0   2.0;\n",
    "    0   3.5 4.0 1.0\n",
    "]"
   ]
  },
  {
   "cell_type": "markdown",
   "metadata": {},
   "source": [
    "行列の行が上からユーザ 1, 2, 3, 4 に対応し、列が左から商品 1, 2, 3, 4 に対応しているとすると、この行列はユーザ 1 は商品 2 を 4.5、商品 3 を 2.0 と評価し、商品 1 と 4 を評価していないとみなすことができます。なので $K=2$ で\n",
    "\n",
    "$$\n",
    "Q = \\left(\n",
    "\\begin{array}{ccc}\n",
    "  q_{11} & q_{12} \\\\\n",
    "  q_{21} & q_{22} \\\\\n",
    "  q_{31} & q_{32} \\\\\n",
    "  q_{41} & q_{42}\n",
    "\\end{array}\n",
    "\\right)\n",
    "$$\n",
    "\n",
    "とすると\n",
    "\n",
    "$$\n",
    "Q_{I_1} = \\left(\n",
    "\\begin{array}{ccc}\n",
    "0 & 1 & 0 & 0 \\\\\n",
    "0 & 0 & 1 & 0\n",
    "\\end{array}\n",
    "\\right) Q = \\left(\n",
    "\\begin{array}{ccc}\n",
    "  q_{21} & q_{22} \\\\\n",
    "  q_{31} & q_{32}\n",
    "\\end{array}\n",
    "\\right)\n",
    "$$\n",
    "\n",
    "です。この $Q$ の左からかけているフィルターとなる行列を作る関数を用意します。"
   ]
  },
  {
   "cell_type": "code",
   "execution_count": 2,
   "metadata": {},
   "outputs": [
    {
     "data": {
      "text/plain": [
       "filtermatrix"
      ]
     },
     "execution_count": 2,
     "metadata": {},
     "output_type": "execute_result"
    }
   ],
   "source": [
    "\"\"\"\n",
    "ユーザあるいは商品のレーティングベクトルを受け取って、フィルターとなる行列を返す\n",
    "\"\"\"\n",
    "function filtermatrix(rating::Array)\n",
    "    result = zeros(Int, (count(rating .!= 0), length(rating)))\n",
    "    counter = 1\n",
    "    for (index, value) in enumerate(rating)\n",
    "        if value != 0\n",
    "            result[counter, index] = 1\n",
    "            counter += 1\n",
    "        end\n",
    "    end\n",
    "    result\n",
    "end"
   ]
  },
  {
   "cell_type": "markdown",
   "metadata": {},
   "source": [
    "ユーザ 1 のレーティングを入力として与えると、たしかにさきほど $Q$ にかけたものと同じ行列が返ってきます。$\\mathbf{q}_i$ を更新する時に必要になる $P_{I_i}$ も同様に求めることができます："
   ]
  },
  {
   "cell_type": "code",
   "execution_count": 3,
   "metadata": {},
   "outputs": [
    {
     "data": {
      "text/plain": [
       "2×4 Array{Int64,2}:\n",
       " 0  1  0  0\n",
       " 0  0  1  0"
      ]
     },
     "execution_count": 3,
     "metadata": {},
     "output_type": "execute_result"
    }
   ],
   "source": [
    "filtermatrix(R[1:1, :])"
   ]
  },
  {
   "cell_type": "markdown",
   "metadata": {},
   "source": [
    "本筋からは離れますが、 ALS の中で使うために MSE を計算する関数を用意しておきます："
   ]
  },
  {
   "cell_type": "code",
   "execution_count": 4,
   "metadata": {},
   "outputs": [
    {
     "data": {
      "text/plain": [
       "mse"
      ]
     },
     "execution_count": 4,
     "metadata": {},
     "output_type": "execute_result"
    }
   ],
   "source": [
    "\"\"\"\n",
    "ベクトル x と ｙ の平均二乗誤差を計算する\n",
    "\n",
    "x: ベクトル\n",
    "y: ベクトル\n",
    "\"\"\"\n",
    "function mse(x::Vector, y::Vector)::Float64\n",
    "    @assert length(x) == length(y)\n",
    "    sum((x .- y).^2) / length(x)\n",
    "end"
   ]
  },
  {
   "cell_type": "markdown",
   "metadata": {},
   "source": [
    "では ALS を実装します。さきほどの更新式をそのままコードにおとしていくだけです。"
   ]
  },
  {
   "cell_type": "code",
   "execution_count": 5,
   "metadata": {},
   "outputs": [
    {
     "data": {
      "text/plain": [
       "als"
      ]
     },
     "execution_count": 5,
     "metadata": {},
     "output_type": "execute_result"
    }
   ],
   "source": [
    "using LinearAlgebra\n",
    "\n",
    "\"\"\"\n",
    "R: レーティング行列\n",
    "rank: 潜在因子の数\n",
    "iter: 反復回数\n",
    "λ: 正規化パラメータ\n",
    "\"\"\"\n",
    "function als(\n",
    "        R::Matrix;\n",
    "        rank::Int=10,\n",
    "        iter::Int=10,\n",
    "        λ::Float64=0.001\n",
    "    )\n",
    "    usersnum = size(R, 1) # ユーザ数\n",
    "    itemsnum = size(R, 2)  # 商品数\n",
    "    \n",
    "    P = rand(usersnum, rank)  # ユーザ因子行列\n",
    "    Q = rand(itemsnum, rank)  # 商品因子行列\n",
    "    \n",
    "    # 各ユーザと商品の評価数\n",
    "    np = [count(R[u:u, :] .> 0) for u in 1:usersnum]\n",
    "    nq = [count(R[:, i:i] .> 0) for i in 1:itemsnum]\n",
    "\n",
    "    # 各ユーザと商品のフィルター行列\n",
    "    Iu = [filtermatrix(R[u:u, :]) for u in 1:usersnum]\n",
    "    Ii = [filtermatrix(R[:, i:i]) for i in 1:itemsnum]\n",
    "    \n",
    "    x = R[R .!= 0] # レーティング行列のうち 0 ではないもの\n",
    "    losses = []  # 各イテレーションごとの mse の値を入れる\n",
    "    \n",
    "    for _ in 1:iter\n",
    "        # ユーザ因子を更新する\n",
    "        for u in 1:usersnum\n",
    "            QIu = (Iu[u] * Q)'\n",
    "            Au = QIu * QIu'  + λ * np[u] * I\n",
    "            Vu = QIu * Iu[u] * (R[u:u, :])'\n",
    "            P[u:u, :] = inv(Au) * Vu\n",
    "        end\n",
    "        \n",
    "        # 商品因子を更新する\n",
    "        for i in 1:itemsnum\n",
    "            PIi = (Ii[i] * P)'\n",
    "            Ai = PIi * PIi' + λ * nq[i] * I\n",
    "            Vi = PIi * Ii[i] * R[:, i:i]\n",
    "            Q[i:i, :] = inv(Ai) * Vi\n",
    "        end\n",
    "        \n",
    "        # 推定された R\n",
    "        R̂ = P * Q'\n",
    "        #  R̂ のうちレーティング行列で 0 ではない要素に対応するもの\n",
    "        y = R̂[R .!= 0]\n",
    "        push!(losses, mse(x, y))\n",
    "    end\n",
    "    \n",
    "    P, Q, losses\n",
    "end"
   ]
  },
  {
   "cell_type": "markdown",
   "metadata": {},
   "source": [
    "## 動作確認\n",
    "実際に計算してみます："
   ]
  },
  {
   "cell_type": "code",
   "execution_count": 6,
   "metadata": {
    "scrolled": true
   },
   "outputs": [
    {
     "data": {
      "text/plain": [
       "4×4 Array{Float64,2}:\n",
       " 1.95614  4.49856  2.00126  1.93523 \n",
       " 3.99916  2.49496  3.5      0.577751\n",
       " 2.59633  5.00034  2.96279  1.99935 \n",
       " 2.92678  3.49851  3.99614  1.00025 "
      ]
     },
     "execution_count": 6,
     "metadata": {},
     "output_type": "execute_result"
    }
   ],
   "source": [
    "using Random\n",
    "Random.seed!(255)\n",
    "P, Q, losses = als(R)\n",
    "R̂ = P * Q'"
   ]
  },
  {
   "cell_type": "markdown",
   "metadata": {},
   "source": [
    "$R$ と $\\hat{R}$ から $I$ に含まれるものを取り出してみると、かなり近い値が並んでいることが分かります："
   ]
  },
  {
   "cell_type": "code",
   "execution_count": 7,
   "metadata": {},
   "outputs": [
    {
     "name": "stdout",
     "output_type": "stream",
     "text": [
      "R = [4.0, 4.5, 5.0, 3.5, 2.0, 3.5, 4.0, 2.0, 1.0]\n",
      "R̂ = [3.999, 4.499, 5.0, 3.499, 2.001, 3.5, 3.996, 1.999, 1.0]\n"
     ]
    }
   ],
   "source": [
    "println(\"R = \", R[R .!= 0])\n",
    "println(\"R̂ = \", round.(R̂[R .!= 0], digits=3))"
   ]
  },
  {
   "cell_type": "markdown",
   "metadata": {},
   "source": [
    "誤差の遷移をグラフに表示してみると、反復すると急激に値が小さくなっていくことが分かります。今回使ったレーティング行列はとても小さいので数回の反復で収束しています："
   ]
  },
  {
   "cell_type": "code",
   "execution_count": 8,
   "metadata": {
    "scrolled": false
   },
   "outputs": [
    {
     "data": {
      "image/svg+xml": [
       "<?xml version=\"1.0\" encoding=\"utf-8\"?>\n",
       "<svg xmlns=\"http://www.w3.org/2000/svg\" xmlns:xlink=\"http://www.w3.org/1999/xlink\" width=\"600\" height=\"400\" viewBox=\"0 0 2400 1600\">\n",
       "<defs>\n",
       "  <clipPath id=\"clip7900\">\n",
       "    <rect x=\"0\" y=\"0\" width=\"2400\" height=\"1600\"/>\n",
       "  </clipPath>\n",
       "</defs>\n",
       "<path clip-path=\"url(#clip7900)\" d=\"\n",
       "M0 1600 L2400 1600 L2400 0 L0 0  Z\n",
       "  \" fill=\"#ffffff\" fill-rule=\"evenodd\" fill-opacity=\"1\"/>\n",
       "<defs>\n",
       "  <clipPath id=\"clip7901\">\n",
       "    <rect x=\"480\" y=\"0\" width=\"1681\" height=\"1600\"/>\n",
       "  </clipPath>\n",
       "</defs>\n",
       "<path clip-path=\"url(#clip7900)\" d=\"\n",
       "M284.87 1487.47 L2352.76 1487.47 L2352.76 47.2441 L284.87 47.2441  Z\n",
       "  \" fill=\"#ffffff\" fill-rule=\"evenodd\" fill-opacity=\"1\"/>\n",
       "<defs>\n",
       "  <clipPath id=\"clip7902\">\n",
       "    <rect x=\"284\" y=\"47\" width=\"2069\" height=\"1441\"/>\n",
       "  </clipPath>\n",
       "</defs>\n",
       "<polyline clip-path=\"url(#clip7902)\" style=\"stroke:#000000; stroke-width:2; stroke-opacity:0.1; fill:none\" points=\"\n",
       "  560.154,1487.47 560.154,47.2441 \n",
       "  \"/>\n",
       "<polyline clip-path=\"url(#clip7902)\" style=\"stroke:#000000; stroke-width:2; stroke-opacity:0.1; fill:none\" points=\"\n",
       "  993.674,1487.47 993.674,47.2441 \n",
       "  \"/>\n",
       "<polyline clip-path=\"url(#clip7902)\" style=\"stroke:#000000; stroke-width:2; stroke-opacity:0.1; fill:none\" points=\"\n",
       "  1427.19,1487.47 1427.19,47.2441 \n",
       "  \"/>\n",
       "<polyline clip-path=\"url(#clip7902)\" style=\"stroke:#000000; stroke-width:2; stroke-opacity:0.1; fill:none\" points=\"\n",
       "  1860.71,1487.47 1860.71,47.2441 \n",
       "  \"/>\n",
       "<polyline clip-path=\"url(#clip7902)\" style=\"stroke:#000000; stroke-width:2; stroke-opacity:0.1; fill:none\" points=\"\n",
       "  2294.23,1487.47 2294.23,47.2441 \n",
       "  \"/>\n",
       "<polyline clip-path=\"url(#clip7902)\" style=\"stroke:#000000; stroke-width:2; stroke-opacity:0.1; fill:none\" points=\"\n",
       "  284.87,1287.93 2352.76,1287.93 \n",
       "  \"/>\n",
       "<polyline clip-path=\"url(#clip7902)\" style=\"stroke:#000000; stroke-width:2; stroke-opacity:0.1; fill:none\" points=\"\n",
       "  284.87,964.853 2352.76,964.853 \n",
       "  \"/>\n",
       "<polyline clip-path=\"url(#clip7902)\" style=\"stroke:#000000; stroke-width:2; stroke-opacity:0.1; fill:none\" points=\"\n",
       "  284.87,641.779 2352.76,641.779 \n",
       "  \"/>\n",
       "<polyline clip-path=\"url(#clip7902)\" style=\"stroke:#000000; stroke-width:2; stroke-opacity:0.1; fill:none\" points=\"\n",
       "  284.87,318.705 2352.76,318.705 \n",
       "  \"/>\n",
       "<polyline clip-path=\"url(#clip7900)\" style=\"stroke:#000000; stroke-width:4; stroke-opacity:1; fill:none\" points=\"\n",
       "  284.87,1487.47 2352.76,1487.47 \n",
       "  \"/>\n",
       "<polyline clip-path=\"url(#clip7900)\" style=\"stroke:#000000; stroke-width:4; stroke-opacity:1; fill:none\" points=\"\n",
       "  284.87,1487.47 284.87,47.2441 \n",
       "  \"/>\n",
       "<polyline clip-path=\"url(#clip7900)\" style=\"stroke:#000000; stroke-width:4; stroke-opacity:1; fill:none\" points=\"\n",
       "  560.154,1487.47 560.154,1470.19 \n",
       "  \"/>\n",
       "<polyline clip-path=\"url(#clip7900)\" style=\"stroke:#000000; stroke-width:4; stroke-opacity:1; fill:none\" points=\"\n",
       "  993.674,1487.47 993.674,1470.19 \n",
       "  \"/>\n",
       "<polyline clip-path=\"url(#clip7900)\" style=\"stroke:#000000; stroke-width:4; stroke-opacity:1; fill:none\" points=\"\n",
       "  1427.19,1487.47 1427.19,1470.19 \n",
       "  \"/>\n",
       "<polyline clip-path=\"url(#clip7900)\" style=\"stroke:#000000; stroke-width:4; stroke-opacity:1; fill:none\" points=\"\n",
       "  1860.71,1487.47 1860.71,1470.19 \n",
       "  \"/>\n",
       "<polyline clip-path=\"url(#clip7900)\" style=\"stroke:#000000; stroke-width:4; stroke-opacity:1; fill:none\" points=\"\n",
       "  2294.23,1487.47 2294.23,1470.19 \n",
       "  \"/>\n",
       "<polyline clip-path=\"url(#clip7900)\" style=\"stroke:#000000; stroke-width:4; stroke-opacity:1; fill:none\" points=\"\n",
       "  284.87,1287.93 309.684,1287.93 \n",
       "  \"/>\n",
       "<polyline clip-path=\"url(#clip7900)\" style=\"stroke:#000000; stroke-width:4; stroke-opacity:1; fill:none\" points=\"\n",
       "  284.87,964.853 309.684,964.853 \n",
       "  \"/>\n",
       "<polyline clip-path=\"url(#clip7900)\" style=\"stroke:#000000; stroke-width:4; stroke-opacity:1; fill:none\" points=\"\n",
       "  284.87,641.779 309.684,641.779 \n",
       "  \"/>\n",
       "<polyline clip-path=\"url(#clip7900)\" style=\"stroke:#000000; stroke-width:4; stroke-opacity:1; fill:none\" points=\"\n",
       "  284.87,318.705 309.684,318.705 \n",
       "  \"/>\n",
       "<g clip-path=\"url(#clip7900)\">\n",
       "<text style=\"fill:#000000; fill-opacity:1; font-family:Arial,Helvetica Neue,Helvetica,sans-serif; font-size:48px; text-anchor:middle;\" transform=\"rotate(0, 560.154, 1541.47)\" x=\"560.154\" y=\"1541.47\">2</text>\n",
       "</g>\n",
       "<g clip-path=\"url(#clip7900)\">\n",
       "<text style=\"fill:#000000; fill-opacity:1; font-family:Arial,Helvetica Neue,Helvetica,sans-serif; font-size:48px; text-anchor:middle;\" transform=\"rotate(0, 993.674, 1541.47)\" x=\"993.674\" y=\"1541.47\">4</text>\n",
       "</g>\n",
       "<g clip-path=\"url(#clip7900)\">\n",
       "<text style=\"fill:#000000; fill-opacity:1; font-family:Arial,Helvetica Neue,Helvetica,sans-serif; font-size:48px; text-anchor:middle;\" transform=\"rotate(0, 1427.19, 1541.47)\" x=\"1427.19\" y=\"1541.47\">6</text>\n",
       "</g>\n",
       "<g clip-path=\"url(#clip7900)\">\n",
       "<text style=\"fill:#000000; fill-opacity:1; font-family:Arial,Helvetica Neue,Helvetica,sans-serif; font-size:48px; text-anchor:middle;\" transform=\"rotate(0, 1860.71, 1541.47)\" x=\"1860.71\" y=\"1541.47\">8</text>\n",
       "</g>\n",
       "<g clip-path=\"url(#clip7900)\">\n",
       "<text style=\"fill:#000000; fill-opacity:1; font-family:Arial,Helvetica Neue,Helvetica,sans-serif; font-size:48px; text-anchor:middle;\" transform=\"rotate(0, 2294.23, 1541.47)\" x=\"2294.23\" y=\"1541.47\">10</text>\n",
       "</g>\n",
       "<g clip-path=\"url(#clip7900)\">\n",
       "<text style=\"fill:#000000; fill-opacity:1; font-family:Arial,Helvetica Neue,Helvetica,sans-serif; font-size:48px; text-anchor:start;\" transform=\"rotate(0, 97.5281, 1311.65)\" x=\"97.5281\" y=\"1311.65\">10</text>\n",
       "</g>\n",
       "<g clip-path=\"url(#clip7900)\">\n",
       "<text style=\"fill:#000000; fill-opacity:1; font-family:Arial,Helvetica Neue,Helvetica,sans-serif; font-size:38px; text-anchor:start;\" transform=\"rotate(0, 151.053, 1284.24)\" x=\"151.053\" y=\"1284.24\">-</text>\n",
       "</g>\n",
       "<g clip-path=\"url(#clip7900)\">\n",
       "<text style=\"fill:#000000; fill-opacity:1; font-family:Arial,Helvetica Neue,Helvetica,sans-serif; font-size:38px; text-anchor:start;\" transform=\"rotate(0, 173.892, 1284.24)\" x=\"173.892\" y=\"1284.24\">5.50 </text>\n",
       "</g>\n",
       "<g clip-path=\"url(#clip7900)\">\n",
       "<text style=\"fill:#000000; fill-opacity:1; font-family:Arial,Helvetica Neue,Helvetica,sans-serif; font-size:48px; text-anchor:start;\" transform=\"rotate(0, 97.5281, 988.58)\" x=\"97.5281\" y=\"988.58\">10</text>\n",
       "</g>\n",
       "<g clip-path=\"url(#clip7900)\">\n",
       "<text style=\"fill:#000000; fill-opacity:1; font-family:Arial,Helvetica Neue,Helvetica,sans-serif; font-size:38px; text-anchor:start;\" transform=\"rotate(0, 151.053, 961.17)\" x=\"151.053\" y=\"961.17\">-</text>\n",
       "</g>\n",
       "<g clip-path=\"url(#clip7900)\">\n",
       "<text style=\"fill:#000000; fill-opacity:1; font-family:Arial,Helvetica Neue,Helvetica,sans-serif; font-size:38px; text-anchor:start;\" transform=\"rotate(0, 173.892, 961.17)\" x=\"173.892\" y=\"961.17\">5.25 </text>\n",
       "</g>\n",
       "<g clip-path=\"url(#clip7900)\">\n",
       "<text style=\"fill:#000000; fill-opacity:1; font-family:Arial,Helvetica Neue,Helvetica,sans-serif; font-size:48px; text-anchor:start;\" transform=\"rotate(0, 97.5281, 665.506)\" x=\"97.5281\" y=\"665.506\">10</text>\n",
       "</g>\n",
       "<g clip-path=\"url(#clip7900)\">\n",
       "<text style=\"fill:#000000; fill-opacity:1; font-family:Arial,Helvetica Neue,Helvetica,sans-serif; font-size:38px; text-anchor:start;\" transform=\"rotate(0, 151.053, 638.096)\" x=\"151.053\" y=\"638.096\">-</text>\n",
       "</g>\n",
       "<g clip-path=\"url(#clip7900)\">\n",
       "<text style=\"fill:#000000; fill-opacity:1; font-family:Arial,Helvetica Neue,Helvetica,sans-serif; font-size:38px; text-anchor:start;\" transform=\"rotate(0, 173.892, 638.096)\" x=\"173.892\" y=\"638.096\">5.00 </text>\n",
       "</g>\n",
       "<g clip-path=\"url(#clip7900)\">\n",
       "<text style=\"fill:#000000; fill-opacity:1; font-family:Arial,Helvetica Neue,Helvetica,sans-serif; font-size:48px; text-anchor:start;\" transform=\"rotate(0, 97.5281, 342.432)\" x=\"97.5281\" y=\"342.432\">10</text>\n",
       "</g>\n",
       "<g clip-path=\"url(#clip7900)\">\n",
       "<text style=\"fill:#000000; fill-opacity:1; font-family:Arial,Helvetica Neue,Helvetica,sans-serif; font-size:38px; text-anchor:start;\" transform=\"rotate(0, 151.053, 315.022)\" x=\"151.053\" y=\"315.022\">-</text>\n",
       "</g>\n",
       "<g clip-path=\"url(#clip7900)\">\n",
       "<text style=\"fill:#000000; fill-opacity:1; font-family:Arial,Helvetica Neue,Helvetica,sans-serif; font-size:38px; text-anchor:start;\" transform=\"rotate(0, 173.892, 315.022)\" x=\"173.892\" y=\"315.022\">4.75 </text>\n",
       "</g>\n",
       "<polyline clip-path=\"url(#clip7902)\" style=\"stroke:#009af9; stroke-width:4; stroke-opacity:1; fill:none\" points=\"\n",
       "  343.395,88.0053 560.154,1359.7 776.914,1432.09 993.674,1444.45 1210.43,1446.71 1427.19,1444.97 1643.95,1441.22 1860.71,1436.86 2077.47,1432.86 2294.23,1429.89 \n",
       "  \n",
       "  \"/>\n",
       "<path clip-path=\"url(#clip7900)\" d=\"\n",
       "M1888.27 251.724 L2280.76 251.724 L2280.76 130.764 L1888.27 130.764  Z\n",
       "  \" fill=\"#ffffff\" fill-rule=\"evenodd\" fill-opacity=\"1\"/>\n",
       "<polyline clip-path=\"url(#clip7900)\" style=\"stroke:#000000; stroke-width:4; stroke-opacity:1; fill:none\" points=\"\n",
       "  1888.27,251.724 2280.76,251.724 2280.76,130.764 1888.27,130.764 1888.27,251.724 \n",
       "  \"/>\n",
       "<polyline clip-path=\"url(#clip7900)\" style=\"stroke:#009af9; stroke-width:4; stroke-opacity:1; fill:none\" points=\"\n",
       "  1912.27,191.244 2056.27,191.244 \n",
       "  \"/>\n",
       "<g clip-path=\"url(#clip7900)\">\n",
       "<text style=\"fill:#000000; fill-opacity:1; font-family:Arial,Helvetica Neue,Helvetica,sans-serif; font-size:48px; text-anchor:start;\" transform=\"rotate(0, 2080.27, 208.744)\" x=\"2080.27\" y=\"208.744\">Losses</text>\n",
       "</g>\n",
       "</svg>\n"
      ]
     },
     "execution_count": 8,
     "metadata": {},
     "output_type": "execute_result"
    }
   ],
   "source": [
    "using Plots\n",
    "Plots.gr()\n",
    "plot(1:10, losses, label=\"Losses\", yscale=:log10)"
   ]
  },
  {
   "cell_type": "markdown",
   "metadata": {},
   "source": [
    "ユーザ数と商品数ともに 100 くらいのもっと大きなデータを使ってみます："
   ]
  },
  {
   "cell_type": "code",
   "execution_count": 9,
   "metadata": {},
   "outputs": [],
   "source": [
    "R2 = zeros(100, 100)\n",
    "for u in 1:100, p in 1:100\n",
    "    if rand() < 0.1\n",
    "        R2[u, p] = rand() * 5\n",
    "    end\n",
    "end"
   ]
  },
  {
   "cell_type": "markdown",
   "metadata": {},
   "source": [
    "収束が緩やかになっていることが分かります："
   ]
  },
  {
   "cell_type": "code",
   "execution_count": 10,
   "metadata": {
    "scrolled": true
   },
   "outputs": [
    {
     "data": {
      "image/svg+xml": [
       "<?xml version=\"1.0\" encoding=\"utf-8\"?>\n",
       "<svg xmlns=\"http://www.w3.org/2000/svg\" xmlns:xlink=\"http://www.w3.org/1999/xlink\" width=\"600\" height=\"400\" viewBox=\"0 0 2400 1600\">\n",
       "<defs>\n",
       "  <clipPath id=\"clip8300\">\n",
       "    <rect x=\"0\" y=\"0\" width=\"2400\" height=\"1600\"/>\n",
       "  </clipPath>\n",
       "</defs>\n",
       "<path clip-path=\"url(#clip8300)\" d=\"\n",
       "M0 1600 L2400 1600 L2400 0 L0 0  Z\n",
       "  \" fill=\"#ffffff\" fill-rule=\"evenodd\" fill-opacity=\"1\"/>\n",
       "<defs>\n",
       "  <clipPath id=\"clip8301\">\n",
       "    <rect x=\"480\" y=\"0\" width=\"1681\" height=\"1600\"/>\n",
       "  </clipPath>\n",
       "</defs>\n",
       "<path clip-path=\"url(#clip8300)\" d=\"\n",
       "M217.964 1487.47 L2352.76 1487.47 L2352.76 47.2441 L217.964 47.2441  Z\n",
       "  \" fill=\"#ffffff\" fill-rule=\"evenodd\" fill-opacity=\"1\"/>\n",
       "<defs>\n",
       "  <clipPath id=\"clip8302\">\n",
       "    <rect x=\"217\" y=\"47\" width=\"2136\" height=\"1441\"/>\n",
       "  </clipPath>\n",
       "</defs>\n",
       "<polyline clip-path=\"url(#clip8302)\" style=\"stroke:#000000; stroke-width:2; stroke-opacity:0.1; fill:none\" points=\"\n",
       "  258.04,1487.47 258.04,47.2441 \n",
       "  \"/>\n",
       "<polyline clip-path=\"url(#clip8302)\" style=\"stroke:#000000; stroke-width:2; stroke-opacity:0.1; fill:none\" points=\"\n",
       "  766.614,1487.47 766.614,47.2441 \n",
       "  \"/>\n",
       "<polyline clip-path=\"url(#clip8302)\" style=\"stroke:#000000; stroke-width:2; stroke-opacity:0.1; fill:none\" points=\"\n",
       "  1275.19,1487.47 1275.19,47.2441 \n",
       "  \"/>\n",
       "<polyline clip-path=\"url(#clip8302)\" style=\"stroke:#000000; stroke-width:2; stroke-opacity:0.1; fill:none\" points=\"\n",
       "  1783.76,1487.47 1783.76,47.2441 \n",
       "  \"/>\n",
       "<polyline clip-path=\"url(#clip8302)\" style=\"stroke:#000000; stroke-width:2; stroke-opacity:0.1; fill:none\" points=\"\n",
       "  2292.34,1487.47 2292.34,47.2441 \n",
       "  \"/>\n",
       "<polyline clip-path=\"url(#clip8302)\" style=\"stroke:#000000; stroke-width:2; stroke-opacity:0.1; fill:none\" points=\"\n",
       "  217.964,1477.91 2352.76,1477.91 \n",
       "  \"/>\n",
       "<polyline clip-path=\"url(#clip8302)\" style=\"stroke:#000000; stroke-width:2; stroke-opacity:0.1; fill:none\" points=\"\n",
       "  217.964,1082.99 2352.76,1082.99 \n",
       "  \"/>\n",
       "<polyline clip-path=\"url(#clip8302)\" style=\"stroke:#000000; stroke-width:2; stroke-opacity:0.1; fill:none\" points=\"\n",
       "  217.964,688.059 2352.76,688.059 \n",
       "  \"/>\n",
       "<polyline clip-path=\"url(#clip8302)\" style=\"stroke:#000000; stroke-width:2; stroke-opacity:0.1; fill:none\" points=\"\n",
       "  217.964,293.132 2352.76,293.132 \n",
       "  \"/>\n",
       "<polyline clip-path=\"url(#clip8300)\" style=\"stroke:#000000; stroke-width:4; stroke-opacity:1; fill:none\" points=\"\n",
       "  217.964,1487.47 2352.76,1487.47 \n",
       "  \"/>\n",
       "<polyline clip-path=\"url(#clip8300)\" style=\"stroke:#000000; stroke-width:4; stroke-opacity:1; fill:none\" points=\"\n",
       "  217.964,1487.47 217.964,47.2441 \n",
       "  \"/>\n",
       "<polyline clip-path=\"url(#clip8300)\" style=\"stroke:#000000; stroke-width:4; stroke-opacity:1; fill:none\" points=\"\n",
       "  258.04,1487.47 258.04,1470.19 \n",
       "  \"/>\n",
       "<polyline clip-path=\"url(#clip8300)\" style=\"stroke:#000000; stroke-width:4; stroke-opacity:1; fill:none\" points=\"\n",
       "  766.614,1487.47 766.614,1470.19 \n",
       "  \"/>\n",
       "<polyline clip-path=\"url(#clip8300)\" style=\"stroke:#000000; stroke-width:4; stroke-opacity:1; fill:none\" points=\"\n",
       "  1275.19,1487.47 1275.19,1470.19 \n",
       "  \"/>\n",
       "<polyline clip-path=\"url(#clip8300)\" style=\"stroke:#000000; stroke-width:4; stroke-opacity:1; fill:none\" points=\"\n",
       "  1783.76,1487.47 1783.76,1470.19 \n",
       "  \"/>\n",
       "<polyline clip-path=\"url(#clip8300)\" style=\"stroke:#000000; stroke-width:4; stroke-opacity:1; fill:none\" points=\"\n",
       "  2292.34,1487.47 2292.34,1470.19 \n",
       "  \"/>\n",
       "<polyline clip-path=\"url(#clip8300)\" style=\"stroke:#000000; stroke-width:4; stroke-opacity:1; fill:none\" points=\"\n",
       "  217.964,1477.91 243.581,1477.91 \n",
       "  \"/>\n",
       "<polyline clip-path=\"url(#clip8300)\" style=\"stroke:#000000; stroke-width:4; stroke-opacity:1; fill:none\" points=\"\n",
       "  217.964,1082.99 243.581,1082.99 \n",
       "  \"/>\n",
       "<polyline clip-path=\"url(#clip8300)\" style=\"stroke:#000000; stroke-width:4; stroke-opacity:1; fill:none\" points=\"\n",
       "  217.964,688.059 243.581,688.059 \n",
       "  \"/>\n",
       "<polyline clip-path=\"url(#clip8300)\" style=\"stroke:#000000; stroke-width:4; stroke-opacity:1; fill:none\" points=\"\n",
       "  217.964,293.132 243.581,293.132 \n",
       "  \"/>\n",
       "<g clip-path=\"url(#clip8300)\">\n",
       "<text style=\"fill:#000000; fill-opacity:1; font-family:Arial,Helvetica Neue,Helvetica,sans-serif; font-size:48px; text-anchor:middle;\" transform=\"rotate(0, 258.04, 1541.47)\" x=\"258.04\" y=\"1541.47\">0</text>\n",
       "</g>\n",
       "<g clip-path=\"url(#clip8300)\">\n",
       "<text style=\"fill:#000000; fill-opacity:1; font-family:Arial,Helvetica Neue,Helvetica,sans-serif; font-size:48px; text-anchor:middle;\" transform=\"rotate(0, 766.614, 1541.47)\" x=\"766.614\" y=\"1541.47\">25</text>\n",
       "</g>\n",
       "<g clip-path=\"url(#clip8300)\">\n",
       "<text style=\"fill:#000000; fill-opacity:1; font-family:Arial,Helvetica Neue,Helvetica,sans-serif; font-size:48px; text-anchor:middle;\" transform=\"rotate(0, 1275.19, 1541.47)\" x=\"1275.19\" y=\"1541.47\">50</text>\n",
       "</g>\n",
       "<g clip-path=\"url(#clip8300)\">\n",
       "<text style=\"fill:#000000; fill-opacity:1; font-family:Arial,Helvetica Neue,Helvetica,sans-serif; font-size:48px; text-anchor:middle;\" transform=\"rotate(0, 1783.76, 1541.47)\" x=\"1783.76\" y=\"1541.47\">75</text>\n",
       "</g>\n",
       "<g clip-path=\"url(#clip8300)\">\n",
       "<text style=\"fill:#000000; fill-opacity:1; font-family:Arial,Helvetica Neue,Helvetica,sans-serif; font-size:48px; text-anchor:middle;\" transform=\"rotate(0, 2292.34, 1541.47)\" x=\"2292.34\" y=\"1541.47\">100</text>\n",
       "</g>\n",
       "<g clip-path=\"url(#clip8300)\">\n",
       "<text style=\"fill:#000000; fill-opacity:1; font-family:Arial,Helvetica Neue,Helvetica,sans-serif; font-size:48px; text-anchor:start;\" transform=\"rotate(0, 84.9832, 1501.64)\" x=\"84.9832\" y=\"1501.64\">10</text>\n",
       "</g>\n",
       "<g clip-path=\"url(#clip8300)\">\n",
       "<text style=\"fill:#000000; fill-opacity:1; font-family:Arial,Helvetica Neue,Helvetica,sans-serif; font-size:38px; text-anchor:start;\" transform=\"rotate(0, 138.508, 1474.23)\" x=\"138.508\" y=\"1474.23\">-</text>\n",
       "</g>\n",
       "<g clip-path=\"url(#clip8300)\">\n",
       "<text style=\"fill:#000000; fill-opacity:1; font-family:Arial,Helvetica Neue,Helvetica,sans-serif; font-size:38px; text-anchor:start;\" transform=\"rotate(0, 161.347, 1474.23)\" x=\"161.347\" y=\"1474.23\">5 </text>\n",
       "</g>\n",
       "<g clip-path=\"url(#clip8300)\">\n",
       "<text style=\"fill:#000000; fill-opacity:1; font-family:Arial,Helvetica Neue,Helvetica,sans-serif; font-size:48px; text-anchor:start;\" transform=\"rotate(0, 84.9832, 1106.71)\" x=\"84.9832\" y=\"1106.71\">10</text>\n",
       "</g>\n",
       "<g clip-path=\"url(#clip8300)\">\n",
       "<text style=\"fill:#000000; fill-opacity:1; font-family:Arial,Helvetica Neue,Helvetica,sans-serif; font-size:38px; text-anchor:start;\" transform=\"rotate(0, 138.508, 1079.3)\" x=\"138.508\" y=\"1079.3\">-</text>\n",
       "</g>\n",
       "<g clip-path=\"url(#clip8300)\">\n",
       "<text style=\"fill:#000000; fill-opacity:1; font-family:Arial,Helvetica Neue,Helvetica,sans-serif; font-size:38px; text-anchor:start;\" transform=\"rotate(0, 161.347, 1079.3)\" x=\"161.347\" y=\"1079.3\">4 </text>\n",
       "</g>\n",
       "<g clip-path=\"url(#clip8300)\">\n",
       "<text style=\"fill:#000000; fill-opacity:1; font-family:Arial,Helvetica Neue,Helvetica,sans-serif; font-size:48px; text-anchor:start;\" transform=\"rotate(0, 84.9832, 711.786)\" x=\"84.9832\" y=\"711.786\">10</text>\n",
       "</g>\n",
       "<g clip-path=\"url(#clip8300)\">\n",
       "<text style=\"fill:#000000; fill-opacity:1; font-family:Arial,Helvetica Neue,Helvetica,sans-serif; font-size:38px; text-anchor:start;\" transform=\"rotate(0, 138.508, 684.376)\" x=\"138.508\" y=\"684.376\">-</text>\n",
       "</g>\n",
       "<g clip-path=\"url(#clip8300)\">\n",
       "<text style=\"fill:#000000; fill-opacity:1; font-family:Arial,Helvetica Neue,Helvetica,sans-serif; font-size:38px; text-anchor:start;\" transform=\"rotate(0, 161.347, 684.376)\" x=\"161.347\" y=\"684.376\">3 </text>\n",
       "</g>\n",
       "<g clip-path=\"url(#clip8300)\">\n",
       "<text style=\"fill:#000000; fill-opacity:1; font-family:Arial,Helvetica Neue,Helvetica,sans-serif; font-size:48px; text-anchor:start;\" transform=\"rotate(0, 84.9832, 316.859)\" x=\"84.9832\" y=\"316.859\">10</text>\n",
       "</g>\n",
       "<g clip-path=\"url(#clip8300)\">\n",
       "<text style=\"fill:#000000; fill-opacity:1; font-family:Arial,Helvetica Neue,Helvetica,sans-serif; font-size:38px; text-anchor:start;\" transform=\"rotate(0, 138.508, 289.449)\" x=\"138.508\" y=\"289.449\">-</text>\n",
       "</g>\n",
       "<g clip-path=\"url(#clip8300)\">\n",
       "<text style=\"fill:#000000; fill-opacity:1; font-family:Arial,Helvetica Neue,Helvetica,sans-serif; font-size:38px; text-anchor:start;\" transform=\"rotate(0, 161.347, 289.449)\" x=\"161.347\" y=\"289.449\">2 </text>\n",
       "</g>\n",
       "<polyline clip-path=\"url(#clip8302)\" style=\"stroke:#009af9; stroke-width:4; stroke-opacity:1; fill:none\" points=\"\n",
       "  278.383,88.0053 298.726,430.472 319.069,654.342 339.412,785.154 359.754,888.738 380.097,977.15 400.44,1031.83 420.783,1078.34 441.126,1117.16 461.469,1148.3 \n",
       "  481.812,1163.01 502.155,1178.13 522.498,1192.44 542.841,1205.31 563.184,1217.36 583.527,1228.23 603.87,1238.57 624.213,1248.81 644.556,1256.39 664.899,1261.68 \n",
       "  685.242,1266.19 705.585,1270.43 725.928,1274.54 746.271,1278.54 766.614,1282.56 786.957,1286.87 807.3,1291.45 827.643,1295.52 847.986,1298.94 868.329,1302.13 \n",
       "  888.672,1305.2 909.015,1308.24 929.358,1311.37 949.701,1314.74 970.044,1318.44 990.387,1322.4 1010.73,1326.49 1031.07,1330.56 1051.42,1334.42 1071.76,1338 \n",
       "  1092.1,1341.34 1112.44,1344.49 1132.79,1347.44 1153.13,1350.24 1173.47,1354.13 1193.82,1359.48 1214.16,1362.39 1234.5,1365.16 1254.85,1367.92 1275.19,1370.62 \n",
       "  1295.53,1373.28 1315.87,1375.89 1336.22,1378.48 1356.56,1381.06 1376.9,1383.67 1397.25,1386.39 1417.59,1389.32 1437.93,1392.52 1458.28,1395.92 1478.62,1399.24 \n",
       "  1498.96,1402.1 1519.3,1404.31 1539.65,1406.01 1559.99,1407.5 1580.33,1408.98 1600.68,1410.5 1621.02,1412.03 1641.36,1413.55 1661.7,1415.02 1682.05,1416.43 \n",
       "  1702.39,1417.79 1722.73,1419.1 1743.08,1420.37 1763.42,1421.59 1783.76,1422.79 1804.11,1423.97 1824.45,1425.13 1844.79,1426.28 1865.13,1427.43 1885.48,1428.57 \n",
       "  1905.82,1429.7 1926.16,1430.83 1946.51,1431.95 1966.85,1433.06 1987.19,1434.15 2007.54,1435.22 2027.88,1436.26 2048.22,1437.27 2068.56,1438.24 2088.91,1439.18 \n",
       "  2109.25,1440.07 2129.59,1440.93 2149.94,1441.75 2170.28,1442.54 2190.62,1443.29 2210.97,1444.02 2231.31,1444.72 2251.65,1445.4 2271.99,1446.07 2292.34,1446.71 \n",
       "  \n",
       "  \"/>\n",
       "<path clip-path=\"url(#clip8300)\" d=\"\n",
       "M1888.27 251.724 L2280.76 251.724 L2280.76 130.764 L1888.27 130.764  Z\n",
       "  \" fill=\"#ffffff\" fill-rule=\"evenodd\" fill-opacity=\"1\"/>\n",
       "<polyline clip-path=\"url(#clip8300)\" style=\"stroke:#000000; stroke-width:4; stroke-opacity:1; fill:none\" points=\"\n",
       "  1888.27,251.724 2280.76,251.724 2280.76,130.764 1888.27,130.764 1888.27,251.724 \n",
       "  \"/>\n",
       "<polyline clip-path=\"url(#clip8300)\" style=\"stroke:#009af9; stroke-width:4; stroke-opacity:1; fill:none\" points=\"\n",
       "  1912.27,191.244 2056.27,191.244 \n",
       "  \"/>\n",
       "<g clip-path=\"url(#clip8300)\">\n",
       "<text style=\"fill:#000000; fill-opacity:1; font-family:Arial,Helvetica Neue,Helvetica,sans-serif; font-size:48px; text-anchor:start;\" transform=\"rotate(0, 2080.27, 208.744)\" x=\"2080.27\" y=\"208.744\">Losses</text>\n",
       "</g>\n",
       "</svg>\n"
      ]
     },
     "execution_count": 10,
     "metadata": {},
     "output_type": "execute_result"
    }
   ],
   "source": [
    "iter = 100\n",
    "_, _, losses2 = als(R2, iter=iter)\n",
    "Plots.gr()\n",
    "plot(1:iter, losses2, label=\"Losses\", yscale=:log10)"
   ]
  },
  {
   "cell_type": "markdown",
   "metadata": {},
   "source": [
    "## おわりに\n",
    "協調フィルタリングで広く使われる MF の実装の一つである ALS の数学的な背景とその実装を確認しました。実際に MF する際は Apache Spark に実装された ALS を用いることが多いと思いますが、こうして中身が分かると少しだけ安心感も増す感じがします。\n",
    "\n",
    "ALS は MF のためのものではありますが、交互に二乗誤差を修正する、という考え方自体は他にも適用できるものです。実際、 Factorization Marchines（FM）の論文では FM が ALS で解けると書かれています。\n",
    "\n",
    "実はこのブログは当初 FM の勉強のために書こうとしたものなのです。しかしいかんせん、長くなってきたのでここで一旦終わります。機会があれば FM を ALS （または MCMC）で解いてみたいと思います。"
   ]
  },
  {
   "cell_type": "markdown",
   "metadata": {},
   "source": [
    "## 参考\n",
    "\n",
    "* [Alternating Least Square (ALS) でCP分解 - でかいチーズをベーグルする](http://yamaguchiyuto.hatenablog.com/entry/2016/11/12/100000)\n",
    "* [Matrix-Factorization-ALS/ALS Python Implementation.py at master · mickeykedia/Matrix-Factorization-ALS](https://github.com/mickeykedia/Matrix-Factorization-ALS/blob/master/ALS%20Python%20Implementation.py)\n",
    "* [Prototyping a Recommender System Step by Step Part 2: Alternating Least Square (ALS) Matrix Factorization in Collaborative Filtering](https://towardsdatascience.com/prototyping-a-recommender-system-step-by-step-part-2-alternating-least-square-als-matrix-4a76c58714a1)\n",
    "* [Alternating Least Squares – Data Science Made Simpler](https://datasciencemadesimpler.wordpress.com/tag/alternating-least-squares/)\n",
    "* [Large-scale Parallel Collaborative Filtering for the Netflix Prize](https://endymecy.gitbooks.io/spark-ml-source-analysis/content/%E6%8E%A8%E8%8D%90/papers/Large-scale%20Parallel%20Collaborative%20Filtering%20the%20Netflix%20Prize.pdf)\n",
    "\n",
    "なおこの記事は [jupyter/datascience-notebook:7a0c7325e470](https://hub.docker.com/layers/jupyter/datascience-notebook/7a0c7325e470/images/sha256-18ef2702c6a25bd26b81e7b6dc831adb2bc294ae7bc9b011150b8f4573c41d4a) で起動した Jupyter Notebook を使って書かれています：\n",
    "\n",
    "```bash\n",
    "docker run --rm -it -p 8888:8888 -v $PWD/pages:/app/notebooks -w /app/notebooks jupyter/datascience-notebook:7a0c7325e470\n",
    "```"
   ]
  }
 ],
 "metadata": {
  "post_metadata": {
   "description": "協調フィルタリングで広く使われる MF の実装の一つである ALS アルゴリズムの数学的な背景を確認し、 Julia を使って実装する。",
   "publishedAt": "2020-01-06T10:09:00+09:00",
   "modifiedAt": "2020-01-06T10:33:00+09:00",
   "tags": ["julia"],
   "title": "Matrix Factorization のための ALS アルゴリズムの数理と実装"
  },
  "kernelspec": {
   "display_name": "Julia 1.2.0",
   "language": "julia",
   "name": "julia-1.2"
  },
  "language_info": {
   "file_extension": ".jl",
   "mimetype": "application/julia",
   "name": "julia",
   "version": "1.2.0"
  }
 },
 "nbformat": 4,
 "nbformat_minor": 2
}
