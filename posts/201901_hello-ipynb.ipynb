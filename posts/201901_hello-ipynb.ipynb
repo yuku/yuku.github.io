{
 "cells": [
  {
   "cell_type": "markdown",
   "metadata": {},
   "source": [
    "Commit: [yuku/yuku.github.io@`1c18e26`](https://github.com/yuku/yuku.github.io/commit/1c18e263dcc3ca54c0061ccda57b4bca8ba9f9fd)\n",
    "\n",
    "Jupyter Notebook can now be displayed on this blog. I'm going to use it to publish my study records of machine learning and data analysis. 💪🏼"
   ]
  },
  {
   "cell_type": "code",
   "execution_count": 1,
   "metadata": {},
   "outputs": [
    {
     "name": "stdout",
     "output_type": "stream",
     "text": [
      "Hello world\n"
     ]
    }
   ],
   "source": [
    "print(\"Hello world\")"
   ]
  },
  {
   "cell_type": "markdown",
   "metadata": {},
   "source": [
    "This article describes the details of the implementation.\n",
    "\n",
    "## Display ipynb files on Next.js\n",
    "\n",
    "In order to display ipynb files on Next.js, I needed to do two things:\n",
    "\n",
    "1. Make a ipynb file readable by Webpack.\n",
    "2. Convert a loaded ipynb file into a React Component.\n",
    "\n",
    "### Make ipynb files readable\n",
    "\n",
    "Next.js uses Webpack for file resolution, so you can use [ipynb-loader](https://www.npmjs.com/package/ipynb-loader). This loader does nothing more than call [jupyter/nbconvert](https://github.com/jupyter/nbconvert) internally and return the result. jupyter/nbconvter provides the ability to convert ipynb files to HTML, Markdown, etc.\n",
    "\n",
    "When using jupyter/nbconvert, I had to decide whether to output as HTML or Markdown\n",
    "\n",
    "If outputting in HTML, I can easily display the characteristic `In [1]` prompt of Jupyter Notebook, but on the other hand, it is difficult to use some desired features such as LaTex notation. [^1]\n",
    "\n",
    "[^1]: Jupyter Notebook implements LaTex notation using MathJax, but in this blog, I try not to run JS on the browser as much as possible, so I use [remark-math](https://www.npmjs.com/package/remark-math) and [rehype-katex](https://www.npmjs.com/package/rehype-katex) to convert LaTex notation to HTML at compile time.\n",
    "\n",
    "When outputting as Markdown, not only I can use the same processing as MDX, but I can also use Markdown notation that Jupyter Notebook does not support, which is an advantage. On the other hand, the correspondence between input and output is lost, so it doesn't feel like a Jupyter Notebook is displayed.\n",
    "\n",
    "After all, when I want to write a blog in ipynb format, I want to express the correspondence between input and output, and if I want to use LaTex, for example, I can write in MDX format, so I decided to output in HTML.\n",
    "\n",
    "### Convert to a React Component\n",
    "\n",
    "Next.js expects to import a React Component. This means that Webpack needs to generate a string that can be interpreted as a React Component.\n",
    "\n",
    "JSX is useful for writing a React Component. Unfortunately, I couldn't find a Webpack loader that would accomplish this goal, so I implemented such loader by myself using [htmltojsx](https://www.npmjs.com/package/htmltojsx), which is written by Facebook:\n",
    "\n",
    "```javascript\n",
    "const HTMLtoJSX = require(\"htmltojsx\")\n",
    "const converter = new HTMLtoJSX({ createClass: false })\n",
    "\n",
    "module.exports = function (content) {\n",
    "  // The `content` argument is the HTML returned by ipynb-loader.\n",
    "  return `\n",
    "  import React from \"react\"\n",
    "  export default () => ${converter.convert(content)}\n",
    "  `\n",
    "}\n",
    "```\n",
    "\n",
    "## Notes\n",
    "\n",
    "- I've been generated entries.ts file, which is a collection of metadata written in MDX files during compilation, but ipynb doesn't support such metadata, so I gave up on automatically generating the file and decided to manage it manually.\n",
    "- Using jupyter/nbconvert to generate HTML from ipynb made the Blog's architecture complex, and I had to switch from Travis CI to CircleCI to maintain auto-deployment. Since ipynb is a JSON, it may be good to reimplement it with JavaScript. In that case, it seems that the part that converts Markdown to HTML can be shared with MDX.\n",
    "\n",
    "## Conclusion\n",
    "\n",
    "In my next job, I'm going to use pyspark to analyze data, so I'd like to use this feature to publish the knowledge I've gained while leaning pyspark and using it.\n",
    "\n",
    "This is the first time I've written a webpack loader, and it's easier than I thought it would be. Through this implementation, I have learned Webpack itself well. If you feel that you don't know what Webpack is doing, you may be able to understand Webpack better by writing a loader."
   ]
  }
 ],
 "metadata": {
  "post_metadata": {
   "description": "Jupyter Notebook can now be displayed on this blog. I'm going to use it to publish my study records of machine learning and data analysis. This article describes the details of the implementation.",
   "modifiedAt": "2020-05-30T00:43:29+09:00",
   "publishedAt": "2019-01-15T20:17:00+09:00",
   "tags": ["Blog dev"],
   "title": "Display Jupyter Notebook on Next.js"
  },
  "kernelspec": {
   "display_name": "Python 3",
   "language": "python",
   "name": "python3"
  },
  "language_info": {
   "codemirror_mode": {
    "name": "ipython",
    "version": 3
   },
   "file_extension": ".py",
   "mimetype": "text/x-python",
   "name": "python",
   "nbconvert_exporter": "python",
   "pygments_lexer": "ipython3",
   "version": "3.7.2"
  }
 },
 "nbformat": 4,
 "nbformat_minor": 2
}
